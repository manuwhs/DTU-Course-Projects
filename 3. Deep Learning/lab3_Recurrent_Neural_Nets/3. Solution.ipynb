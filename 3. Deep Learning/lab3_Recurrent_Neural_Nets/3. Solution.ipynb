{
 "cells": [
  {
   "cell_type": "code",
   "execution_count": 2,
   "metadata": {
    "collapsed": true
   },
   "outputs": [],
   "source": [
    "from __future__ import absolute_import, division, print_function\n",
    "\n",
    "%matplotlib inline\n",
    "# %matplotlib nbagg\n",
    "import tensorflow as tf\n",
    "import matplotlib\n",
    "import numpy as np\n",
    "import matplotlib.pyplot as plt\n",
    "from IPython import display\n",
    "from data_generator_tensorflow import get_batch, print_valid_characters\n",
    "\n",
    "import os\n",
    "import sys\n",
    "sys.path.append(os.path.join('.', '..')) \n",
    "import utils \n",
    "\n",
    "import tf_utils"
   ]
  },
  {
   "cell_type": "markdown",
   "metadata": {},
   "source": [
    "# Recurrent Neural Networks\n",
    "> <span style=\"color:gray\">\n",
    "Original [Theano/Lasagne tutorial](https://github.com/DeepLearningDTU/nvidia_deep_learning_summercamp_2016/) by \n",
    "Lars Maaløe ([larsmaaloee](https://github.com/larsmaaloee)),\n",
    "Søren Kaae Sønderby ([skaae](https://github.com/skaae)), and \n",
    "Casper Sønderby ([casperkaae](https://github.com/casperkaae)). \n",
    "Converted to TensorFlow by \n",
    "Alexander R. Johansen ([alrojo](https://github.com/alrojo)), \n",
    "and updated by \n",
    "Toke Faurby ([faur](https://github.com/Faur)).\n",
    "> </span>\n",
    "\n",
    "Recurrent neural networks (RNN) are the natural type of neural network to use for sequential data e.g. time series analysis, translation, speech recognition, biological sequence analysis etc.\n",
    "RNNs works by recursively applying the same operation to an input $x_t$ and its own hidden state from the previous timestep $h_{t-1}$.\n",
    "That is to say that each layer can be described by the function $f$:\n",
    "\n",
    "$$y_t, h_t = f(x_t, h_{t-1})$$\n",
    "\n",
    "where $y_t$ is the output.\n",
    "An RNN can therefore handle input of varying length.\n",
    "\n",
    "Drawing all the connections in a RNN (left) quickly becomes messy, therefore it is common to use the time unrolled view (right) when representing RNNs.\n",
    "<img src='images/rnn_basic.png', width=600>\n",
    "*Image by [Alex Graves](https://www.cs.toronto.edu/~graves/preprint.pdf)*\n",
    "\n",
    "\n",
    "\n",
    "#### External resources\n",
    "* The code describing RNNs can be tricky to understand at first. \n",
    "R2T2 has a great tutorial series ([part 1](https://r2rt.com/recurrent-neural-networks-in-tensorflow-i.html), [part 2](https://r2rt.com/recurrent-neural-networks-in-tensorflow-ii.html)) that digs into the details of how RNNs are implemented in TensorFlow. This introduction is heavily inspired by part 1.\n",
    "* For more in depth background material on RNNs please see [Supervised Sequence Labelling with Recurrent\n",
    "Neural Networks](https://www.cs.toronto.edu/~graves/preprint.pdf) by Alex Graves\n",
    "* Lastly there is an [official TensorFlow tutorial](https://www.tensorflow.org/tutorials/recurrent) that is also worth a look"
   ]
  },
  {
   "cell_type": "markdown",
   "metadata": {},
   "source": [
    "# Encoder-Decoder Models\n",
    "\n",
    "\n",
    "Recurrent networks can be used for several kinds of prediction tasks including: \n",
    "* **One-to-one** - NOT a recurrent network. E.g. image classification.\n",
    "* **One-to-many** - E.g. creating an [image caption](http://cs.stanford.edu/people/karpathy/deepimagesent/) with an RNN.\n",
    "* **Many-to-one** - E.g. sentiment analysis of text.\n",
    "* **Many-to-many** (different lengths) This is a combination of the *one-to-many* and *many-to-One*, and is called an **encoder-decoder** RNN. E.g. machine translation.\n",
    "* **Many-to-many** (same length) Each input has an output. E.g. robotics control.\n",
    "\n",
    "\n",
    "<img src=\"images/types.jpeg\", width=800>\n",
    "\n",
    "*Image courtesy Andrej Karpathy's [blog](http://karpathy.github.io/2015/05/21/rnn-effectiveness/)*\n",
    "\n"
   ]
  },
  {
   "cell_type": "markdown",
   "metadata": {},
   "source": [
    "## Encoder-Decoder\n",
    "In this exercise we'll implement a Encoder-Decoder RNN based for a simple sequence to sequence translation task.\n",
    "We will use a special kind of unit, called the GRU unit.\n",
    "The GRU unit stores a hidden value per neuron that helps it '*remember*' long-term dependencies.\n",
    "Another popular choice of unit type is LSTM, which store two values, but these are approximately twice as slow as GRU.\n",
    "GRUs (and LSTMs) can be difficult to understand at first.\n",
    "For a very good not-to-mathematical introduction see \n",
    "[Chris Olahs blog](http://colah.github.io/posts/2015-08-Understanding-LSTMs/) or\n",
    "[Andrej Karpathys blog](http://karpathy.github.io/2015/05/21/rnn-effectiveness/)\n",
    "(All their posts are nice and cover various topics within machine-learning).\n",
    "This type of models have shown impressive performance in Neural Machine Translation and Image Caption generation. \n",
    "\n",
    "\n",
    "In the encoder-decoder structure one RNN (blue) encodes the input into a hidden representation, and a second RNN (red) uses this representation to predict the target values.\n",
    "An essential step is deciding how the encoder and decoder should communicate.\n",
    "In the simplest approach you use the last hidden state of the encoder to initialize the decoder.\n",
    "This is what we will do in this notebook, as shown here:\n",
    "\n",
    "<img src='images/enc-dec.png', width=400>\n",
    "\n",
    "#### Teacher forcing\n",
    "We will also use what is called *teacher forcing*.\n",
    "This is shown as the gray lines in the figure.\n",
    "This means that the RNN will implement a sequence of conditional distributions so the $t$th output of the decoder gives $p(y_t|y_1,\\dots,y_{t-1} ,x)$. This formulation will make the task easier and faster for the network to learn because it during training always have access to the correct preceding outputs.\n",
    "A test time where we we don't know the output sequence we have to predict one step at a time. \n",
    "There is no guarantee that we will find the mostly likely decoded *sequence*. A technique called [beam search](https://arxiv.org/pdf/1702.01806.pdf) is used in machine translation and related tasks to look for list of candidate decoded sequences.    \n",
    "\n",
    "\n",
    "\n",
    "#### Alternatives\n",
    "There are other ways to let the encoder and decoder communicate with each other.\n",
    "For instance you can give the last state of the Encoder as input to the Decoder at each decode time step, not just the previously predicted word.\n",
    "Another approache is called **attention**, which lets the Decoder attend to different parts of the encoded input at different timesteps in the decoding process. \n",
    "Attention is shown in the next notebook. \n",
    "\n"
   ]
  },
  {
   "cell_type": "markdown",
   "metadata": {},
   "source": [
    "### The Data\n",
    "Since RNN models can be very slow to train on real large datasets we will generate some simpler training data for this exercise. The task for the RNN is simply to translate a string of letters spelling the numbers between 0-9 into the corresponding numbers i.e\n",
    "\n",
    "    \"one two five\" --> \"125#\"\n",
    "\n",
    "`#` is a special end-of-sequence character, indicating the sequence is done.\n",
    "\n",
    "To input the strings into the RNN model we translate the characters into a vector integers using a simple translation table (i.e. 'h'->16, 'o'-> 17 etc).\n",
    "The code below prints a few input/output pairs using the *get_batch* function which randomy produces the data.\n",
    "\n",
    "\n",
    "In the data loader below will setup the data and print some information. \n",
    "Key to understand are:\n",
    " * ENCODED INPUTS (`inputs`) are feed into the encoder (`A B C D` in the figure)\n",
    " * ENCODED TARGETS OUTPUT (`targets_out`) are what we want the network to predict. This is used to compute the error. (`X Y Z EOS` in the figure) \n",
    " * ENCODED TARGETS INPUT (`targets_in`) are used for teacher forcing during training. (`EOS X Y Z` in the figure) \n",
    " \n",
    "Note; that we use the same symbol for end-of-sequence as for start-of-sequence (`#`).\n"
   ]
  },
  {
   "cell_type": "code",
   "execution_count": 3,
   "metadata": {
    "collapsed": true
   },
   "outputs": [],
   "source": [
    "# At the bottom of the script there is some code which saves the model.\n",
    "# If you wish to restore your model from a previous state use this function.\n",
    "load_model = False"
   ]
  },
  {
   "cell_type": "code",
   "execution_count": 4,
   "metadata": {},
   "outputs": [
    {
     "name": "stdout",
     "output_type": "stream",
     "text": [
      "input types: int32 int32 int32 int32 int32\n",
      "Number of valid characters: 27\n",
      "'0'=0,\t'1'=1,\t'2'=2,\t'3'=3,\t'4'=4,\t'5'=5,\t'6'=6,\t'7'=7,\t'8'=8,\t'9'=9,\t'#'=10,\t'u'=11,\t's'=12,\t'x'=13,\t'z'=14,\t'w'=15,\t'h'=16,\t'g'=17,\t'i'=18,\t'f'=19,\t'e'=20,\t'r'=21,\t' '=22,\t'v'=23,\t'n'=24,\t'o'=25,\t't'=26,\t\n",
      "Stop/start character = #\n",
      "\n",
      "SAMPLE 0\n",
      "TEXT INPUTS:\t\t\t two six six\n",
      "ENCODED INPUTS:\t\t\t [26 15 25 22 12 18 13 22 12 18 13  0  0]\n",
      "INPUTS SEQUENCE LENGTH:\t\t 11\n",
      "TEXT TARGETS OUTPUT:\t\t 266#\n",
      "TEXT TARGETS INPUT:\t\t #266\n",
      "ENCODED TARGETS OUTPUT:\t\t [ 2  6  6 10]\n",
      "ENCODED TARGETS INPUT:\t\t [10  2  6  6]\n",
      "TARGETS SEQUENCE LENGTH:\t 4\n",
      "TARGETS MASK:\t\t\t [ 1.  1.  1.  1.]\n",
      "\n",
      "SAMPLE 1\n",
      "TEXT INPUTS:\t\t\t one seven one\n",
      "ENCODED INPUTS:\t\t\t [25 24 20 22 12 20 23 20 24 22 25 24 20]\n",
      "INPUTS SEQUENCE LENGTH:\t\t 13\n",
      "TEXT TARGETS OUTPUT:\t\t 171#\n",
      "TEXT TARGETS INPUT:\t\t #171\n",
      "ENCODED TARGETS OUTPUT:\t\t [ 1  7  1 10]\n",
      "ENCODED TARGETS INPUT:\t\t [10  1  7  1]\n",
      "TARGETS SEQUENCE LENGTH:\t 4\n",
      "TARGETS MASK:\t\t\t [ 1.  1.  1.  1.]\n",
      "\n",
      "SAMPLE 2\n",
      "TEXT INPUTS:\t\t\t five nine\n",
      "ENCODED INPUTS:\t\t\t [19 18 23 20 22 24 18 24 20  0  0  0  0]\n",
      "INPUTS SEQUENCE LENGTH:\t\t 9\n",
      "TEXT TARGETS OUTPUT:\t\t 59#\n",
      "TEXT TARGETS INPUT:\t\t #59\n",
      "ENCODED TARGETS OUTPUT:\t\t [ 5  9 10  0]\n",
      "ENCODED TARGETS INPUT:\t\t [10  5  9  0]\n",
      "TARGETS SEQUENCE LENGTH:\t 3\n",
      "TARGETS MASK:\t\t\t [ 1.  1.  1.  0.]\n"
     ]
    }
   ],
   "source": [
    "batch_size = 3\n",
    "inputs, inputs_seqlen, targets_in, targets_out, targets_seqlen, targets_mask, \\\n",
    "text_inputs, text_targets_in, text_targets_out = \\\n",
    "    get_batch(batch_size=batch_size, max_digits=4, min_digits=2)\n",
    "\n",
    "print(\"input types:\", inputs.dtype, inputs_seqlen.dtype, targets_in.dtype, targets_out.dtype, targets_seqlen.dtype)\n",
    "print_valid_characters()\n",
    "print(\"Stop/start character = #\")\n",
    "\n",
    "for i in range(batch_size):\n",
    "    print(\"\\nSAMPLE\",i)\n",
    "    print(\"TEXT INPUTS:\\t\\t\\t\", text_inputs[i])\n",
    "    print(\"ENCODED INPUTS:\\t\\t\\t\", inputs[i])\n",
    "    print(\"INPUTS SEQUENCE LENGTH:\\t\\t\", inputs_seqlen[i])\n",
    "    print(\"TEXT TARGETS OUTPUT:\\t\\t\", text_targets_out[i])\n",
    "    print(\"TEXT TARGETS INPUT:\\t\\t\", text_targets_in[i])\n",
    "    print(\"ENCODED TARGETS OUTPUT:\\t\\t\", targets_out[i])\n",
    "    print(\"ENCODED TARGETS INPUT:\\t\\t\", targets_in[i])\n",
    "    print(\"TARGETS SEQUENCE LENGTH:\\t\", targets_seqlen[i])\n",
    "    print(\"TARGETS MASK:\\t\\t\\t\", targets_mask[i])"
   ]
  },
  {
   "cell_type": "markdown",
   "metadata": {},
   "source": [
    "### Encoder-Decoder model setup\n",
    "Below is the TensorFlow model definition. We use an embedding layer to go from integer representation to vector representation of the input.\n",
    "\n",
    "TensorFlow has implementations of LSTM and GRU units.\n",
    "Both implementations assume that the input from the tensor below has the shape **`[batch_size, max_time, input_size]`**, (unless you have `time_major=True`, in which case it is `[max_time, batch_size, input_size]`).\n",
    "\n",
    "Note that we have made use of a custom decoder wrapper which can be found in `tf_utils.py`."
   ]
  },
  {
   "cell_type": "code",
   "execution_count": 5,
   "metadata": {
    "collapsed": true
   },
   "outputs": [],
   "source": [
    "# resetting the graph\n",
    "tf.reset_default_graph()\n",
    "\n",
    "# Setting up hyperparameters and general configs\n",
    "MAX_DIGITS = 10\n",
    "MIN_DIGITS = 5\n",
    "NUM_INPUTS = 27\n",
    "NUM_OUTPUTS = 11 #(0-9 + '#')\n",
    "\n",
    "BATCH_SIZE = 16\n",
    "# try various learning rates 1e-2 to 1e-5\n",
    "LEARNING_RATE = 0.005\n",
    "X_EMBEDDINGS = 8\n",
    "t_EMBEDDINGS = 8\n",
    "NUM_UNITS_ENC = 16\n",
    "NUM_UNITS_DEC = 16\n",
    "\n",
    "\n",
    "# Setting up placeholders, these are the tensors that we \"feed\" to our network\n",
    "Xs = tf.placeholder(tf.int32, shape=[None, None], name='X_input')\n",
    "ts_in = tf.placeholder(tf.int32, shape=[None, None], name='t_input_in')\n",
    "ts_out = tf.placeholder(tf.int32, shape=[None, None], name='t_input_out')\n",
    "X_len = tf.placeholder(tf.int32, shape=[None], name='X_len')\n",
    "t_len = tf.placeholder(tf.int32, shape=[None], name='X_len')\n",
    "t_mask = tf.placeholder(tf.float32, shape=[None, None], name='t_mask')\n",
    "\n",
    "\n",
    "### Building the model\n",
    "# first we build the embeddings to make our characters into dense, trainable vectors\n",
    "X_embeddings = tf.get_variable('X_embeddings', [NUM_INPUTS, X_EMBEDDINGS],\n",
    "                               initializer=tf.random_normal_initializer(stddev=0.1))\n",
    "t_embeddings = tf.get_variable('t_embeddings', [NUM_OUTPUTS, t_EMBEDDINGS],\n",
    "                               initializer=tf.random_normal_initializer(stddev=0.1))\n",
    "\n",
    "X_embedded = tf.gather(X_embeddings, Xs, name='embed_X')\n",
    "t_embedded = tf.gather(t_embeddings, ts_in, name='embed_t')\n",
    "\n",
    "\n",
    "## forward encoding\n",
    "enc_cell = tf.nn.rnn_cell.GRUCell(NUM_UNITS_ENC)\n",
    "_, enc_state = tf.nn.dynamic_rnn(cell=enc_cell, inputs=X_embedded,\n",
    "                                 sequence_length=X_len, dtype=tf.float32)\n",
    "# use below incase TF's makes issues\n",
    "# enc_state, _ = tf_utils.encoder(X_embedded, X_len, 'encoder', NUM_UNITS_ENC)\n",
    "#\n",
    "# enc_state = tf.concat(1, [enc_state, enc_state])\n",
    "\n",
    "## decoding\n",
    "# note that we are using a wrapper for decoding here, this wrapper is hardcoded to only use GRU\n",
    "# check out tf_utils to see how you make your own decoder\n",
    "\n",
    "# setting up weights for computing the final output\n",
    "W_out = tf.get_variable('W_out', [NUM_UNITS_DEC, NUM_OUTPUTS])\n",
    "b_out = tf.get_variable('b_out', [NUM_OUTPUTS])\n",
    "\n",
    "dec_out, valid_dec_out = tf_utils.decoder(enc_state, t_embedded, t_len, \n",
    "                                          NUM_UNITS_DEC, t_embeddings,\n",
    "                                          W_out, b_out)\n",
    "\n",
    "## reshaping to have [batch_size*seqlen, num_units]\n",
    "out_tensor = tf.reshape(dec_out, [-1, NUM_UNITS_DEC])\n",
    "valid_out_tensor = tf.reshape(valid_dec_out, [-1, NUM_UNITS_DEC])\n",
    "# computing output\n",
    "out_tensor = tf.matmul(out_tensor, W_out) + b_out\n",
    "valid_out_tensor = tf.matmul(valid_out_tensor, W_out) + b_out\n",
    "\n",
    "## reshaping back to sequence\n",
    "# print('X_len', tf.shape(X_len)[0])\n",
    "b_size = tf.shape(X_len)[0] # use a variable we know has batch_size in [0]\n",
    "seq_len = tf.shape(t_embedded)[1] # variable we know has sequence length in [1]\n",
    "num_out = tf.constant(NUM_OUTPUTS) # casting NUM_OUTPUTS to a tensor variable\n",
    "out_shape = tf.concat([tf.expand_dims(b_size, 0),\n",
    "                      tf.expand_dims(seq_len, 0),\n",
    "                      tf.expand_dims(num_out, 0)],\n",
    "                     axis=0)\n",
    "\n",
    "out_tensor = tf.reshape(out_tensor, out_shape)\n",
    "valid_out_tensor = tf.reshape(valid_out_tensor, out_shape)\n",
    "# handling shape loss\n",
    "#out_tensor.set_shape([None, None, NUM_OUTPUTS])\n",
    "y = out_tensor\n",
    "y_valid = valid_out_tensor"
   ]
  },
  {
   "cell_type": "code",
   "execution_count": 6,
   "metadata": {},
   "outputs": [
    {
     "name": "stdout",
     "output_type": "stream",
     "text": [
      "X_embeddings:0                           (27, 8)\n",
      "t_embeddings:0                           (11, 8)\n",
      "rnn/gru_cell/gates/kernel:0              (24, 32)\n",
      "rnn/gru_cell/gates/bias:0                (32,)\n",
      "rnn/gru_cell/candidate/kernel:0          (24, 16)\n",
      "rnn/gru_cell/candidate/bias:0            (16,)\n",
      "W_out:0                                  (16, 11)\n",
      "b_out:0                                  (11,)\n",
      "decoder/W_z_x:0                          (8, 16)\n",
      "decoder/W_z_h:0                          (16, 16)\n",
      "decoder/b_z:0                            (16,)\n",
      "decoder/W_r_x:0                          (8, 16)\n",
      "decoder/W_r_h:0                          (16, 16)\n",
      "decoder/b_r:0                            (16,)\n",
      "decoder/W_c_x:0                          (8, 16)\n",
      "decoder/W_c_h:0                          (16, 16)\n",
      "decoder/b_h:0                            (16,)\n"
     ]
    }
   ],
   "source": [
    "# print all the variable names and shapes\n",
    "for var in tf.global_variables ():\n",
    "    s = var.name + \" \"*(40-len(var.name))\n",
    "    print(s, var.value().get_shape())"
   ]
  },
  {
   "cell_type": "markdown",
   "metadata": {},
   "source": [
    "### Defining the cost function, gradient clipping and accuracy\n",
    "Because the targets are categorical we use the cross entropy error.\n",
    "As the data is sequential we use the sequence to sequence cross entropy supplied in `tf_utils.py`.\n",
    "We use the Adam optimizer but you can experiment with the different optimizers implemented in [TensorFlow](https://www.tensorflow.org/api_docs/python/tf/train/Optimizer)."
   ]
  },
  {
   "cell_type": "code",
   "execution_count": 7,
   "metadata": {
    "collapsed": true
   },
   "outputs": [],
   "source": [
    "def loss_and_acc(preds):\n",
    "    # sequence_loss_tensor is a modification of TensorFlow's own sequence_to_sequence_loss\n",
    "    # TensorFlow's seq2seq loss works with a 2D list instead of a 3D tensors\n",
    "    loss = tf_utils.sequence_loss_tensor(preds, ts_out, t_mask, NUM_OUTPUTS) # notice that we use ts_out here!\n",
    "\n",
    "    ## if you want regularization\n",
    "    #reg_scale = 0.00001\n",
    "    #regularize = tf.contrib.layers.l2_regularizer(reg_scale)\n",
    "    #params = tf.get_collection(tf.GraphKeys.TRAINABLE_VARIABLES)\n",
    "    #reg_term = sum([regularize(param) for param in params])\n",
    "    #loss += reg_term\n",
    "    \n",
    "    ## calculate accuracy\n",
    "    argmax = tf.to_int32(tf.argmax(preds, 2))\n",
    "    correct = tf.to_float(tf.equal(argmax, ts_out)) * t_mask\n",
    "    accuracy = tf.reduce_sum(correct) / tf.reduce_sum(t_mask)\n",
    "    return loss, accuracy, argmax\n",
    "\n",
    "loss, accuracy, predictions = loss_and_acc(y)\n",
    "loss_valid, accuracy_valid, predictions_valid = loss_and_acc(y_valid)\n",
    "\n",
    "# use lobal step to keep track of our iterations\n",
    "global_step = tf.Variable(0, name='global_step', trainable=False)\n",
    "\n",
    "# pick optimizer, try momentum or adadelta\n",
    "optimizer = tf.train.AdamOptimizer(LEARNING_RATE)\n",
    "\n",
    "# extract gradients for each variable\n",
    "grads_and_vars = optimizer.compute_gradients(loss)\n",
    "\n",
    "## add below for clipping by norm\n",
    "# gradients, variables = zip(*grads_and_vars)  # unzip list of tuples\n",
    "# clipped_gradients, global_norm = (\n",
    "#    tf.clip_by_global_norm(gradients, self.clip_norm) )\n",
    "# grads_and_vars = zip(clipped_gradients, variables)\n",
    "# apply gradients and make trainable function\n",
    "train_op = optimizer.apply_gradients(grads_and_vars, global_step=global_step)"
   ]
  },
  {
   "cell_type": "code",
   "execution_count": 8,
   "metadata": {},
   "outputs": [
    {
     "name": "stdout",
     "output_type": "stream",
     "text": [
      "WARNING:tensorflow:From <ipython-input-8-3a13120a4a03>:3: all_variables (from tensorflow.python.ops.variables) is deprecated and will be removed after 2017-03-02.\n",
      "Instructions for updating:\n",
      "Please use tf.global_variables instead.\n",
      "X_embeddings:0                           (27, 8)\n",
      "t_embeddings:0                           (11, 8)\n",
      "rnn/gru_cell/gates/kernel:0              (24, 32)\n",
      "rnn/gru_cell/gates/bias:0                (32,)\n",
      "rnn/gru_cell/candidate/kernel:0          (24, 16)\n",
      "rnn/gru_cell/candidate/bias:0            (16,)\n",
      "W_out:0                                  (16, 11)\n",
      "b_out:0                                  (11,)\n",
      "decoder/W_z_x:0                          (8, 16)\n",
      "decoder/W_z_h:0                          (16, 16)\n",
      "decoder/b_z:0                            (16,)\n",
      "decoder/W_r_x:0                          (8, 16)\n",
      "decoder/W_r_h:0                          (16, 16)\n",
      "decoder/b_r:0                            (16,)\n",
      "decoder/W_c_x:0                          (8, 16)\n",
      "decoder/W_c_h:0                          (16, 16)\n",
      "decoder/b_h:0                            (16,)\n",
      "global_step:0                            ()\n",
      "beta1_power:0                            ()\n",
      "beta2_power:0                            ()\n",
      "X_embeddings/Adam:0                      (27, 8)\n",
      "X_embeddings/Adam_1:0                    (27, 8)\n",
      "t_embeddings/Adam:0                      (11, 8)\n",
      "t_embeddings/Adam_1:0                    (11, 8)\n",
      "rnn/gru_cell/gates/kernel/Adam:0         (24, 32)\n",
      "rnn/gru_cell/gates/kernel/Adam_1:0       (24, 32)\n",
      "rnn/gru_cell/gates/bias/Adam:0           (32,)\n",
      "rnn/gru_cell/gates/bias/Adam_1:0         (32,)\n",
      "rnn/gru_cell/candidate/kernel/Adam:0     (24, 16)\n",
      "rnn/gru_cell/candidate/kernel/Adam_1:0   (24, 16)\n",
      "rnn/gru_cell/candidate/bias/Adam:0       (16,)\n",
      "rnn/gru_cell/candidate/bias/Adam_1:0     (16,)\n",
      "W_out/Adam:0                             (16, 11)\n",
      "W_out/Adam_1:0                           (16, 11)\n",
      "b_out/Adam:0                             (11,)\n",
      "b_out/Adam_1:0                           (11,)\n",
      "decoder/W_z_x/Adam:0                     (8, 16)\n",
      "decoder/W_z_x/Adam_1:0                   (8, 16)\n",
      "decoder/W_z_h/Adam:0                     (16, 16)\n",
      "decoder/W_z_h/Adam_1:0                   (16, 16)\n",
      "decoder/b_z/Adam:0                       (16,)\n",
      "decoder/b_z/Adam_1:0                     (16,)\n",
      "decoder/W_r_x/Adam:0                     (8, 16)\n",
      "decoder/W_r_x/Adam_1:0                   (8, 16)\n",
      "decoder/W_r_h/Adam:0                     (16, 16)\n",
      "decoder/W_r_h/Adam_1:0                   (16, 16)\n",
      "decoder/b_r/Adam:0                       (16,)\n",
      "decoder/b_r/Adam_1:0                     (16,)\n",
      "decoder/W_c_x/Adam:0                     (8, 16)\n",
      "decoder/W_c_x/Adam_1:0                   (8, 16)\n",
      "decoder/W_c_h/Adam:0                     (16, 16)\n",
      "decoder/W_c_h/Adam_1:0                   (16, 16)\n",
      "decoder/b_h/Adam:0                       (16,)\n",
      "decoder/b_h/Adam_1:0                     (16,)\n"
     ]
    }
   ],
   "source": [
    "# print all the variable names and shapes\n",
    "# notice that we now have the optimizer Adam as well!\n",
    "for var in tf.all_variables():\n",
    "    s = var.name + \" \"*(40-len(var.name))\n",
    "    print(s, var.value().get_shape())"
   ]
  },
  {
   "cell_type": "markdown",
   "metadata": {},
   "source": [
    "### Testing the forward pass"
   ]
  },
  {
   "cell_type": "code",
   "execution_count": 9,
   "metadata": {
    "collapsed": true
   },
   "outputs": [],
   "source": [
    "## Start the session\n",
    "# restricting memory usage, TensorFlow is greedy and will use all memory otherwise\n",
    "gpu_opts = tf.GPUOptions(per_process_gpu_memory_fraction=0.35)\n",
    "sess = tf.Session(config=tf.ConfigProto(gpu_options=gpu_opts))\n",
    "\n",
    "# Initialize parameters\n",
    "if load_model:\n",
    "    try:\n",
    "        tf.train.Saver().restore(sess, \"/save/model.ckpt\")\n",
    "    except:\n",
    "        sess.run(tf.global_variables_initializer())\n",
    "        print('Model not found, new parameters initialized')\n",
    "else:\n",
    "    sess.run(tf.global_variables_initializer())"
   ]
  },
  {
   "cell_type": "code",
   "execution_count": 10,
   "metadata": {},
   "outputs": [
    {
     "name": "stdout",
     "output_type": "stream",
     "text": [
      "\n",
      "SAMPLE 0\n",
      "TEXT INPUTS:\t\t\t two six six\n",
      "TEXT TARGETS INPUT:\t\t #266\n",
      "\n",
      "SAMPLE 1\n",
      "TEXT INPUTS:\t\t\t one seven one\n",
      "TEXT TARGETS INPUT:\t\t #171\n",
      "\n",
      "SAMPLE 2\n",
      "TEXT INPUTS:\t\t\t five nine\n",
      "TEXT TARGETS INPUT:\t\t #59\n",
      "y (3, 4, 11)\n",
      "y_valid (3, 4, 11)\n"
     ]
    }
   ],
   "source": [
    "# as always, test the forward pass and initialize the tf.Session!\n",
    "for i in range(batch_size):\n",
    "    print(\"\\nSAMPLE\",i)\n",
    "    print(\"TEXT INPUTS:\\t\\t\\t\", text_inputs[i])\n",
    "    print(\"TEXT TARGETS INPUT:\\t\\t\", text_targets_in[i])\n",
    "\n",
    "feed_dict = {Xs: inputs, X_len: inputs_seqlen, ts_in: targets_in,\n",
    "             ts_out: targets_out, t_len: targets_seqlen}\n",
    "\n",
    "# test training forwardpass\n",
    "fetches = [y]\n",
    "res = sess.run(fetches=fetches, feed_dict=feed_dict)\n",
    "print(\"y\", res[0].shape)\n",
    "\n",
    "# test validation forwardpass\n",
    "fetches = [y_valid]\n",
    "res = sess.run(fetches=fetches, feed_dict=feed_dict)\n",
    "print(\"y_valid\", res[0].shape)"
   ]
  },
  {
   "cell_type": "code",
   "execution_count": 11,
   "metadata": {},
   "outputs": [
    {
     "name": "stdout",
     "output_type": "stream",
     "text": [
      "X_val (5000, 56)\n",
      "t_out_val (5000, 11)\n"
     ]
    }
   ],
   "source": [
    "#Generate some validation data\n",
    "X_val, X_len_val, t_in_val, t_out_val, t_len_val, t_mask_val, \\\n",
    "text_inputs_val, text_targets_in_val, text_targets_out_val = \\\n",
    "    get_batch(batch_size=5000, max_digits=MAX_DIGITS, min_digits=MIN_DIGITS)\n",
    "print(\"X_val\", X_val.shape)\n",
    "print(\"t_out_val\", t_out_val.shape)"
   ]
  },
  {
   "cell_type": "markdown",
   "metadata": {},
   "source": [
    "# Training\n",
    "\n",
    "Training RNN can take a while, especially if you are running it on your laptop.\n",
    "We won't train the model to completion, as the trends we are interested in can be seen earlier.\n",
    "If training takes to long feel free to stop it even earlier by interrupting the kernel."
   ]
  },
  {
   "cell_type": "code",
   "execution_count": 12,
   "metadata": {
    "scrolled": false
   },
   "outputs": [
    {
     "name": "stdout",
     "output_type": "stream",
     "text": [
      "Done\n",
      "CPU times: user 11min 5s, sys: 2min 2s, total: 13min 7s\n",
      "Wall time: 3min 18s\n"
     ]
    },
    {
     "data": {
      "image/png": "[encoded data removed]",
      "text/plain": [
       "<matplotlib.figure.Figure at 0x7f4c91ea5ef0>"
      ]
     },
     "metadata": {},
     "output_type": "display_data"
    }
   ],
   "source": [
    "%%time\n",
    "## If you get an error, remove this line! It makes the error message hard to understand.\n",
    "\n",
    "# setting up running parameters\n",
    "val_interval = 5000\n",
    "samples_to_process = 2e5\n",
    "samples_processed = 0\n",
    "samples_val = []\n",
    "costs, accs_val = [], []\n",
    "plt.figure()\n",
    "try:\n",
    "    while samples_processed < samples_to_process:\n",
    "        # load data\n",
    "        X_tr, X_len_tr, t_in_tr, t_out_tr, t_len_tr, t_mask_tr, \\\n",
    "        text_inputs_tr, text_targets_in_tr, text_targets_out_tr = \\\n",
    "            get_batch(batch_size=BATCH_SIZE,max_digits=MAX_DIGITS,min_digits=MIN_DIGITS)\n",
    "        # make fetches\n",
    "        fetches_tr = [train_op, loss, accuracy]\n",
    "        # set up feed dict\n",
    "        feed_dict_tr = {Xs: X_tr, X_len: X_len_tr, ts_in: t_in_tr,\n",
    "             ts_out: t_out_tr, t_len: t_len_tr, t_mask: t_mask_tr}\n",
    "        # run the model\n",
    "        res = tuple(sess.run(fetches=fetches_tr, feed_dict=feed_dict_tr))\n",
    "        _, batch_cost, batch_acc = res\n",
    "        costs += [batch_cost]\n",
    "        samples_processed += BATCH_SIZE\n",
    "        #if samples_processed % 1000 == 0: print(batch_cost, batch_acc)\n",
    "        #validation data\n",
    "        if samples_processed % val_interval == 0:\n",
    "            #print(\"validating\")\n",
    "            fetches_val = [accuracy_valid, y_valid]\n",
    "            feed_dict_val = {Xs: X_val, X_len: X_len_val, ts_in: t_in_val,\n",
    "             ts_out: t_out_val, t_len: t_len_val, t_mask: t_mask_val}\n",
    "            res = tuple(sess.run(fetches=fetches_val, feed_dict=feed_dict_val))\n",
    "            acc_val, output_val = res\n",
    "            samples_val += [samples_processed]\n",
    "            accs_val += [acc_val]\n",
    "            plt.plot(samples_val, accs_val, 'g-')\n",
    "            plt.ylabel('Validation Accuracy', fontsize=15)\n",
    "            plt.xlabel('Processed samples', fontsize=15)\n",
    "            plt.title('', fontsize=20)\n",
    "            plt.grid('on')\n",
    "            plt.savefig(\"out.png\")\n",
    "            display.display(display.Image(filename=\"out.png\"))\n",
    "            display.clear_output(wait=True)\n",
    "except KeyboardInterrupt:\n",
    "    pass\n",
    "\n",
    "print('Done')"
   ]
  },
  {
   "cell_type": "code",
   "execution_count": 13,
   "metadata": {
    "scrolled": false
   },
   "outputs": [
    {
     "data": {
      "image/png": "[encoded data removed]",
      "text/plain": [
       "<matplotlib.figure.Figure at 0x7f4c809a4ef0>"
      ]
     },
     "metadata": {},
     "output_type": "display_data"
    }
   ],
   "source": [
    "#plot of validation accuracy for each target position\n",
    "plt.figure(figsize=(7,7))\n",
    "masked_output_val = np.ma.array(np.argmax(output_val,axis=2)==t_out_val, mask=1-t_mask_val)\n",
    "plt.plot(np.ma.mean(masked_output_val, axis=0))\n",
    "plt.ylabel('Accuracy', fontsize=15)\n",
    "plt.xlabel('Target position', fontsize=15)\n",
    "#plt.title('', fontsize=20)\n",
    "plt.grid('on')\n",
    "plt.show()\n",
    "#why do the plot look like this?"
   ]
  },
  {
   "cell_type": "code",
   "execution_count": 14,
   "metadata": {},
   "outputs": [
    {
     "name": "stdout",
     "output_type": "stream",
     "text": [
      "Model saved in file: /tmp/model.ckpt\n"
     ]
    }
   ],
   "source": [
    "## Save model\n",
    "# Read more about saving and loading models at https://www.tensorflow.org/programmers_guide/saved_model\n",
    "\n",
    "# Save model\n",
    "save_path = tf.train.Saver().save(sess, \"/tmp/model.ckpt\")\n",
    "print(\"Model saved in file: %s\" % save_path)\n"
   ]
  },
  {
   "cell_type": "code",
   "execution_count": 15,
   "metadata": {
    "collapsed": true
   },
   "outputs": [],
   "source": [
    "## Close the session, and free the resources\n",
    "sess.close()"
   ]
  },
  {
   "cell_type": "markdown",
   "metadata": {},
   "source": [
    "# Exercises:\n"
   ]
  },
  {
   "cell_type": "markdown",
   "metadata": {},
   "source": [
    "### Exercise 1)\n",
    "1. What is the final validation performance? \n",
    "\n",
    "1. Why do you think it is not better?\n",
    "\n",
    "1. Comment on the accuracy for each position in of the output symbols?\n",
    "\n",
    "___\n",
    "Answer:\n",
    "2. What is the final validation performance? \n",
    "\n",
    "The final accuracy is around 60%. When we see it distributed in the positions, we see that the initial and final positions have the highest accuracy.\n",
    "\n",
    "2. Why do you think it is not better?\n",
    "\n",
    "The 2 main reasons why it is not better is first because the training has not converged, it can be seen that the trend indicates that the accuracy of the system can improve if trained further. Also, due to the teacher forcing, if we have a mistake in the early decoded numbers, it propagates to the prediction of the rest of the numbers of the sequence.\n",
    "\n",
    "Also, this might not be the best scheme to use since the prediciton of one of the output digits is actually independent of the surrounding ones. In a perfect scheme, the surrounding names should not give info. In this case, we have a scheme in which the hidden representation will somehow encode the output numbers to output and their position, thus giving the previous number can give information on what is the next number to output. It is as if that \"teaching number\" that we give as input is an \"index\" of the actual number to output, using the hidden state.\n",
    "\n",
    "2. Comment on the accuracy for each position in of the output symbols?\n",
    "\n",
    "As we can see, at the beggining we have a big accuracy, the network does well predicting the first sample, but not perfect. For this sample, the input symbol is # so the network has correctly learn to output the first number when that input is given. For the few next predictions the accuracy decreases, since the error of the first number is propagated, as we can see, the accuracy decreases linearly. Then the latest positions have an increased accuracy.\n",
    "\n",
    "The 11-th position has accuracy almost 100%, since it will always be # whenever the chain has 10 digits. The minimum number of digits to predict is 5 and maximum is 10. When we have less than 10, the last position is also #. We later use a mask so that the other characters do not count towards accuracy. So the position from 6 to 10 will sometimes have the # character, and sometimes they will have a number, the bigger the position, the bigger the probability of # instead of a number, so the entropy of the position decreases, then its classification is easier and therefore the accuracy increases.\n"
   ]
  },
  {
   "cell_type": "markdown",
   "metadata": {},
   "source": [
    "### Exercise 2)\n",
    "The model has two GRU networks. The ```GRUEncoder``` and the ```GRUDecoder```.\n",
    "A GRU is parameterized by a update gate $u$, a  reset gate $r$, the cell $c$, and the hidden state $h$:\n",
    "\n",
    "![](images/GRUeq.png)\n",
    "*Equations as described in the [Lasagne GRU documentation](http://lasagne.readthedocs.io/en/latest/modules/layers/recurrent.html#lasagne.layers.GRULayer).*\n",
    "\n",
    "**Note** that the notation in the implementation (`tf_utils.py`) $z$ is used instead of $u$.\n",
    "\n",
    "Under normal circumstances, such as in the TensorFlow GRUCell implementation, these gates have been stacked for faster computation, but in the custom decoder each weight and bias are as described in the original [article for GRU](https://arxiv.org/abs/1406.1078).\n",
    " 1. Try to explain the shape of $W_{xr}$ and $W_{hr}$.\n",
    " 1. Why are they different? \n",
    "\n",
    "___\n",
    "Answer:\n",
    "\n",
    "$W_{xr}$ corresponds to the input weights of the hidden neurons that connect with the original input. The shape of $W_{xr}$ is given by the size of the input and the size of the hidden state, in this case the number of hidden nerons: 16. The dimensionality of the input is 8 because we transformed the 27-one-hot sparse representation into a 8-dimensional representation with a neural network.\n",
    "\n",
    "$W_{hr}$ corresponds to the input weights of the hidden neurons that connect with the previous state. The shape of $W_{hr}$ is given by the size of the previous hidden state and the number of hidden neurons of the network. In this case 16. The dimensionality of the state does not change with time and is equal to the number of hidden neurons 16.\n",
    "\n",
    "They are different because they connect data with different dimensionality to the hidden neurons."
   ]
  },
  {
   "cell_type": "markdown",
   "metadata": {},
   "source": [
    "### Exercise 3)\n",
    "The GRU-unit is able to ignore the input and just copy the previous hidden state.\n",
    "In the beginning of training this might be desireable behaviour because it helps the model learn long range dependencies.\n",
    "You can make the model ignore the input by modifying initial bias values.\n",
    "1. What bias would you modify and how would you modify it?\n",
    "\n",
    "Again you'll need to refer to the [GRU equations](http://lasagne.readthedocs.io/en/latest/modules/layers/recurrent.html#lasagne.layers.GRULayer)\n",
    "Further, if you look into `tf_utils.py` and search for the `decoder(...)` function, you will see that the init for each weight and bias can be changed.\n",
    "\n",
    "___\n",
    "Answer:\n",
    "\n",
    "The most straight forward way to ignore the input is just forcing the system to output the previous state $h_{t-1}$. Looking at the equations below:\n",
    "\n",
    "![](images/GRUeq.png)\n",
    "\n",
    "% We can see that this happens when $u_t = 0$. we can force this in the equation by making $b_u$ very negatively big. This way no matter the value of $x_t$ and $h_{t-1}$ (as long as it is not hugely possitive), then  $h_t = h_{t-1}$\n"
   ]
  },
  {
   "cell_type": "markdown",
   "metadata": {},
   "source": [
    "### Exercise 4)\n",
    "In the example we stack a softmax layer on top of a Recurrent layer. In the code snippet below explain how we can do that?\n",
    "___\n",
    "Answer: \n",
    "\n",
    "So, starting from the beggining we have 16 chain batches where every chain has 140 characters encoded with a one-hot 40-dimensional represenation. In the Forward Pass, each of these 16x140 characters generates the 10-length hidden state. Since the softmax layer only accepts 2D representations, what we do is using reshape, concatenating all of those 10-dimensional hidden states. Where 10 correspond to each of the dimensions of the hidden state and then 2240 is the concatenation of every value that it had for each of the 140 samples per 16 chains. Then the output layer has 11 dimensions, so the output per each state possible hidden state has dimension 11, that is the dimension of l_softmax_. And after that, we rearrange the predicted values (11-d) of each hidden state, which correponds to each sample, back to the original distribution where we know to which sample belongs each 11-d output. \n"
   ]
  },
  {
   "cell_type": "code",
   "execution_count": 16,
   "metadata": {},
   "outputs": [
    {
     "name": "stdout",
     "output_type": "stream",
     "text": [
      "l_input_\t (16, 140, 40)\n",
      "l_gru_\t\t (16, 140, 10)\n",
      "l_reshape_\t (2240, 10)\n",
      "l_softmax_\t (2240, 11)\n",
      "l_softmax_seq_\t (16, 140, 11)\n"
     ]
    }
   ],
   "source": [
    "tf.reset_default_graph()\n",
    "\n",
    "bs_, seqlen_, numinputs_ = 16, 140, 40 # Batch_size, Sequence_length, number_of_inputs\n",
    "x_pl_ = tf.placeholder(tf.float32, [bs_, seqlen_, numinputs_])\n",
    "gru_cell_ = tf.nn.rnn_cell.GRUCell(10)\n",
    "l_gru_, gru_state_ = tf.nn.dynamic_rnn(gru_cell_, x_pl_, dtype=tf.float32)\n",
    "l_reshape_ = tf.reshape(l_gru_, [-1, 10])\n",
    "\n",
    "l_softmax_ = tf.contrib.layers.fully_connected(l_reshape_, 11, activation_fn=tf.nn.softmax)\n",
    "l_softmax_seq_ = tf.reshape(l_softmax_, [bs_, seqlen_, -1])\n",
    "\n",
    "print(\"l_input_\\t\", x_pl_.get_shape())\n",
    "print(\"l_gru_\\t\\t\", l_gru_.get_shape())\n",
    "print(\"l_reshape_\\t\", l_reshape_.get_shape())\n",
    "print(\"l_softmax_\\t\", l_softmax_.get_shape())\n",
    "print(\"l_softmax_seq_\\t\", l_softmax_seq_.get_shape())"
   ]
  },
  {
   "cell_type": "markdown",
   "metadata": {},
   "source": [
    "### Optional Exercise 1)\n",
    "Why do you think the validation performance looks more \"jig-saw\" like compared to FFN and CNN models?\n",
    "\n",
    "___\n",
    "Answer:"
   ]
  },
  {
   "cell_type": "markdown",
   "metadata": {},
   "source": [
    "### Optional Exercise 2)\n",
    "You are interested in doing sentiment analysis on tweets, i.e classification as positive or negative. You decide read over the twitter seqeuence and use the last hidden state to do the classification. How can you modify the small network above to only output a single classification for network? Hints: look at the gru\\_state\\_ or the [tf.slice](https://www.tensorflow.org/versions/r0.10/api_docs/python/array_ops.html#slice) in the API.\n",
    "\n",
    "\n"
   ]
  },
  {
   "cell_type": "markdown",
   "metadata": {},
   "source": [
    "### Optional Exercise 3)\n",
    "Bidirectional Encoders are usually implemented by running a forward model and  a backward model (a forward model on a reversed sequence) separately and the concatenating them before parsing them on to the next layer. To reverse the sequence try looking at [tf.reverse_sequence](https://www.tensorflow.org/versions/r0.10/api_docs/python/array_ops.html#reverse_sequence)\n",
    "\n",
    "Implement a Bidirectional encoder model.\n",
    "Here is some code to get you started:\n",
    "\n",
    "``` python\n",
    "enc_cell = tf.nn.rnn_cell.GRUCell(NUM_UNITS_ENC)\n",
    "_, enc_state = tf.nn.dynamic_rnn(cell=enc_cell, inputs=X_embedded,\n",
    "                                 sequence_length=X_len, dtype=tf.float32, scope=\"rnn_forward\")\n",
    "X_embedded_backwards = tf.reverse_sequence(X_embedded, tf.to_int64(X_len), 1)\n",
    "enc_cell_backwards = tf.nn.rnn_cell.GRUCell(NUM_UNITS_ENC)\n",
    "_, enc_state_backwards = tf.nn.dynamic_rnn(cell=enc_cell_backwards, inputs=X_embedded_backwards,\n",
    "                                 sequence_length=X_len, dtype=tf.float32, scope=\"rnn_backward\")\n",
    "\n",
    "enc_state = tf.concat(1, [enc_state, enc_state_backwards])\n",
    "```\n",
    "\n",
    "Note: you will need to double the NUM_UNITS_DEC, as it currently does not support different sizes."
   ]
  },
  {
   "cell_type": "markdown",
   "metadata": {},
   "source": [
    "# Book's Exercise\n",
    "\n",
    "This exercise belongs to chapter 3 in the book\n",
    "\n",
    "As discussed above, one way of expanding the MNIST training data is to use small rotations of training images. What's a problem that might occur if we allow arbitrarily large rotations of training images?\n",
    "\n",
    "### Answer\n",
    "\n",
    "This small rotations could help the network be rotation invariant, being able to detect numbers that are rotated to some degree, this follows the human intuition that a number slightly rotated is fundamentally the same number. The problem is that in our number representation, the number 6 is equal to the number 9 rotates 180 degrees. It can be confusing as well to classify some numbers if they are too much rotated. So we should contraint the number of degrees of the rotation.\n"
   ]
  },
  {
   "cell_type": "code",
   "execution_count": null,
   "metadata": {
    "collapsed": true
   },
   "outputs": [],
   "source": []
  }
 ],
 "metadata": {
  "anaconda-cloud": {},
  "kernelspec": {
   "display_name": "Python 3",
   "language": "python",
   "name": "python3"
  },
  "language_info": {
   "codemirror_mode": {
    "name": "ipython",
    "version": 3
   },
   "file_extension": ".py",
   "mimetype": "text/x-python",
   "name": "python",
   "nbconvert_exporter": "python",
   "pygments_lexer": "ipython3",
   "version": "3.6.1"
  }
 },
 "nbformat": 4,
 "nbformat_minor": 1
}
